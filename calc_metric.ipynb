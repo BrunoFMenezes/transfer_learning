{
 "cells": [
  {
   "cell_type": "markdown",
   "id": "018dd803-fb50-449f-8fe7-24ea143204f2",
   "metadata": {},
   "source": [
    "# Calcula todas as métricas automaticamente a partir de uma matriz de confusão arbitrária:"
   ]
  },
  {
   "cell_type": "code",
   "execution_count": 1,
   "id": "86c5bfce-6ce5-45a0-ac5d-53d87c602bfb",
   "metadata": {},
   "outputs": [
    {
     "name": "stdout",
     "output_type": "stream",
     "text": [
      "Matriz de Confusão:\n",
      "VP=50, VN=40, FP=10, FN=5\n",
      "\n",
      "Métricas calculadas:\n",
      "Acurácia: 0.857\n",
      "Sensibilidade (Recall): 0.909\n",
      "Especificidade: 0.8\n",
      "Precisão: 0.833\n",
      "F1-Score: 0.87\n"
     ]
    }
   ],
   "source": [
    "# Funções para cálculo das métricas\n",
    "def calcular_metricas(VP, VN, FP, FN):\n",
    "    # Evita divisões por zero\n",
    "    acc = (VP + VN) / (VP + VN + FP + FN) if (VP + VN + FP + FN) != 0 else 0\n",
    "    sensibilidade = VP / (VP + FN) if (VP + FN) != 0 else 0\n",
    "    especificidade = VN / (VN + FP) if (VN + FP) != 0 else 0\n",
    "    precisao = VP / (VP + FP) if (VP + FP) != 0 else 0\n",
    "    f1 = (2 * precisao * sensibilidade) / (precisao + sensibilidade) if (precisao + sensibilidade) != 0 else 0\n",
    "\n",
    "    return {\n",
    "        \"Acurácia\": round(acc, 3),\n",
    "        \"Sensibilidade (Recall)\": round(sensibilidade, 3),\n",
    "        \"Especificidade\": round(especificidade, 3),\n",
    "        \"Precisão\": round(precisao, 3),\n",
    "        \"F1-Score\": round(f1, 3)\n",
    "    }\n",
    "\n",
    "# Exemplo de uso com valores arbitrários\n",
    "VP, VN, FP, FN = 50, 40, 10, 5\n",
    "metricas = calcular_metricas(VP, VN, FP, FN)\n",
    "\n",
    "print(\"Matriz de Confusão:\")\n",
    "print(f\"VP={VP}, VN={VN}, FP={FP}, FN={FN}\")\n",
    "print(\"\\nMétricas calculadas:\")\n",
    "for k, v in metricas.items():\n",
    "    print(f\"{k}: {v}\")"
   ]
  }
 ],
 "metadata": {
  "kernelspec": {
   "display_name": "Python 3.12.3",
   "language": "python",
   "name": "python3"
  },
  "language_info": {
   "codemirror_mode": {
    "name": "ipython",
    "version": 3
   },
   "file_extension": ".py",
   "mimetype": "text/x-python",
   "name": "python",
   "nbconvert_exporter": "python",
   "pygments_lexer": "ipython3",
   "version": "3.12.3"
  }
 },
 "nbformat": 4,
 "nbformat_minor": 5
}
