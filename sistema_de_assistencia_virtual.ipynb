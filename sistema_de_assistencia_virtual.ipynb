{
  "nbformat": 4,
  "nbformat_minor": 0,
  "metadata": {
    "colab": {
      "provenance": []
    },
    "kernelspec": {
      "name": "python3",
      "display_name": "Python 3"
    },
    "language_info": {
      "name": "python"
    }
  },
  "cells": [
    {
      "cell_type": "markdown",
      "source": [
        "# Sistema de Assistência Virtual"
      ],
      "metadata": {
        "id": "oQFbT9YUZ2PM"
      }
    },
    {
      "cell_type": "markdown",
      "source": [
        "Desenvolvindo por: **Bruno Ferro**"
      ],
      "metadata": {
        "id": "yYyDl5fBZ516"
      }
    },
    {
      "cell_type": "markdown",
      "source": [
        "Segue código pronto para Colab que implementa um sistema de assistência virtual mínimo conforme o desafio do Módulo 6: módulos TTS, STT (upload de áudio e gravação via navegador), intent matcher por palavras-chave e handlers para abrir Wikipédia, YouTube e localizar farmácia mais próxima (gera links/googles). Código comentado e direto ao ponto."
      ],
      "metadata": {
        "id": "yWv1Fmr6ZTVz"
      }
    },
    {
      "cell_type": "markdown",
      "source": [
        "Observação operacional: em Colab não é possível abrir janelas do navegador automaticamente; o notebook gera links clicáveis e reproduz áudio no próprio ambiente. A cidade estimada usada para procurar a farmácia é São Paulo, SP, Brazil (informação do ambiente).\n",
        "Código fornecido abaixo — cole e execute as células em ordem no Colab."
      ],
      "metadata": {
        "id": "7sECvkWgZbW6"
      }
    },
    {
      "cell_type": "markdown",
      "source": [
        "# Colab-ready: Assistente Virtual (TTS, STT, intent handlers: Wikipedia, YouTube, \"farmácia mais próxima\")"
      ],
      "metadata": {
        "id": "Udgg8B87aig7"
      }
    },
    {
      "cell_type": "code",
      "source": [
        "# Requisitos: speechrecognition, gTTS, wikipedia, pydub, ipywidgets\n",
        "!pip install -q SpeechRecognition gTTS wikipedia pydub ipywidgets"
      ],
      "metadata": {
        "id": "l-giu8GnaBVq"
      },
      "execution_count": 9,
      "outputs": []
    },
    {
      "cell_type": "markdown",
      "source": [
        "# 1) Imports e configurações"
      ],
      "metadata": {
        "id": "tjBer6xZalU6"
      }
    },
    {
      "cell_type": "code",
      "source": [
        "import os, io, re, urllib.parse\n",
        "from IPython.display import Audio, display, HTML\n",
        "from gtts import gTTS\n",
        "import speech_recognition as sr\n",
        "import wikipedia\n",
        "from pydub import AudioSegment"
      ],
      "metadata": {
        "id": "hVf8q-PJaEv7"
      },
      "execution_count": 10,
      "outputs": []
    },
    {
      "cell_type": "markdown",
      "source": [
        "# --- Ajustes ---"
      ],
      "metadata": {
        "id": "jUl0h-vHapJC"
      }
    },
    {
      "cell_type": "code",
      "source": [
        "# Cidade estimada (obtida via user_info tool): São Paulo, SP, Brazil\n",
        "DEFAULT_CITY = \"São Paulo, SP, Brazil\"\n",
        "# LANG = \"pt-BR\"  # linguagem para TTS/STT/wikipedia\n",
        "LANG = \"pt\"  # linguagem para TTS/STT/wikipedia\n",
        "wikipedia.set_lang(\"pt\")"
      ],
      "metadata": {
        "id": "WedIm33UaHCy"
      },
      "execution_count": 31,
      "outputs": []
    },
    {
      "cell_type": "markdown",
      "source": [
        "Exemplos práticos para LANG\n",
        "\n",
        "\"pt-BR\" → Português do Brasil\n",
        "\n",
        "\"en-US\" → Inglês (Estados Unidos)\n",
        "\n",
        "\"es-ES\" → Espanhol (Espanha)\n",
        "\n",
        "\"fr-FR\" → Francês (França)\n",
        "\n",
        "\"de-DE\" → Alemão"
      ],
      "metadata": {
        "id": "kqRwooUudILi"
      }
    },
    {
      "cell_type": "markdown",
      "source": [
        "AVISO: gtts.lang: 'pt-BR' foi descontinuado, voltando para 'pt'. Este fallback será removido em uma versão futura."
      ],
      "metadata": {
        "id": "tMqSWPO5e1R6"
      }
    },
    {
      "cell_type": "markdown",
      "source": [
        "# 2) Módulo Text-to-Speech: sintetiza texto -> reproduz no Colab e salva opcionalmente"
      ],
      "metadata": {
        "id": "dEoubwHmar1C"
      }
    },
    {
      "cell_type": "code",
      "source": [
        "# def tts_play(text: str, lang: str = LANG, filename: str = None):\n",
        "#     \"\"\"Sintetiza e reproduz áudio do texto (gTTS). Retorna bytes do mp3.\"\"\"\n",
        "#     tts = gTTS(text=text, lang=lang.replace(\"-\",\"_\") if \"-\" in lang else lang)\n",
        "#     buf = io.BytesIO()\n",
        "#     tts.write_to_fp(buf)\n",
        "#     buf.seek(0)\n",
        "#     if filename:\n",
        "#         with open(filename, \"wb\") as f:\n",
        "#             f.write(buf.getbuffer())\n",
        "#     display(Audio(buf.read(), autoplay=True))\n",
        "#     buf.seek(0)\n",
        "#     return buf.read()"
      ],
      "metadata": {
        "id": "NqPiRAnyeZnz"
      },
      "execution_count": null,
      "outputs": []
    },
    {
      "cell_type": "code",
      "source": [
        "def tts_play(text: str, lang: str = LANG, filename: str = None):\n",
        "    \"\"\"Sintetiza e reproduz áudio do texto (gTTS). Retorna bytes do mp3.\"\"\"\n",
        "    tts = gTTS(text=text, lang=lang) # Removed .replace(\"-\",\"_\")\n",
        "    buf = io.BytesIO()\n",
        "    tts.write_to_fp(buf)\n",
        "    buf.seek(0)\n",
        "    if filename:\n",
        "        with open(filename, \"wb\") as f:\n",
        "            f.write(buf.getbuffer())\n",
        "    display(Audio(buf.read(), autoplay=True))\n",
        "    buf.seek(0)\n",
        "    return buf.read()"
      ],
      "metadata": {
        "id": "VFeiNAfTaJny"
      },
      "execution_count": 32,
      "outputs": []
    },
    {
      "cell_type": "markdown",
      "source": [
        "# 3) Módulo Speech-to-Text (arquivo WAV/MP3 uploadado)"
      ],
      "metadata": {
        "id": "xZ43tCnQav1K"
      }
    },
    {
      "cell_type": "code",
      "source": [
        "def stt_from_file(path: str, lang: str = LANG):\n",
        "    \"\"\"Recebe caminho para arquivo de áudio (wav/mp3) e retorna texto reconhecido.\"\"\"\n",
        "    r = sr.Recognizer()\n",
        "    # Converte para WAV 16k mono se necessário (pydub)\n",
        "    audio_path = path\n",
        "    if not path.lower().endswith(\".wav\"):\n",
        "        # converte para wav\n",
        "        audio = AudioSegment.from_file(path)\n",
        "        tmp_wav = \"/tmp/temp_stt.wav\"\n",
        "        audio.set_frame_rate(16000).set_channels(1).export(tmp_wav, format=\"wav\")\n",
        "        audio_path = tmp_wav\n",
        "    with sr.AudioFile(audio_path) as source:\n",
        "        audio_data = r.record(source)\n",
        "    try:\n",
        "        # usa recognizer offline pocketsphinx se instalado, caso contrário Google Web Speech API (online)\n",
        "        text = r.recognize_google(audio_data, language=lang)\n",
        "        return text\n",
        "    except sr.UnknownValueError:\n",
        "        return \"\"\n",
        "    except sr.RequestError as e:\n",
        "        # erro de rede ou quota -> propagar mensagem\n",
        "        raise RuntimeError(f\"API error: {e}\")"
      ],
      "metadata": {
        "id": "X0oyPY2CaLwj"
      },
      "execution_count": 33,
      "outputs": []
    },
    {
      "cell_type": "markdown",
      "source": [
        "# 4) Módulo para gravar via navegador (gera /content/recorded.wav)"
      ],
      "metadata": {
        "id": "wLqROqtiazIS"
      }
    },
    {
      "cell_type": "code",
      "source": [
        "record_js = \"\"\"\n",
        "<button id=\"record\">Gravar 5s</button>\n",
        "<script>\n",
        "const btn = document.getElementById('record');\n",
        "btn.onclick = async () => {\n",
        "  btn.disabled = true;\n",
        "  const stream = await navigator.mediaDevices.getUserMedia({ audio: true });\n",
        "  const mediaRecorder = new MediaRecorder(stream);\n",
        "  const chunks = [];\n",
        "  mediaRecorder.ondataavailable = e => chunks.push(e.data);\n",
        "  mediaRecorder.onstop = async () => {\n",
        "    const blob = new Blob(chunks, { type: 'audio/webm' });\n",
        "    const arrayBuffer = await blob.arrayBuffer();\n",
        "    const bytes = new Uint8Array(arrayBuffer);\n",
        "    // send to python\n",
        "    const base64 = btoa(String.fromCharCode(...bytes));\n",
        "    const py = `\n",
        "from base64 import b64decode\n",
        "b = b64decode(\"${base64}\")\n",
        "open(\"/content/recorded.webm\",\"wb\").write(b)\n",
        "print(\"saved /content/recorded.webm\")\n",
        "`;\n",
        "    google.colab.kernel.invokeFunction('notebook.RunPython', [py], {});\n",
        "    btn.disabled = false;\n",
        "  };\n",
        "  mediaRecorder.start();\n",
        "  setTimeout(() => mediaRecorder.stop(), 5000); // 5s gravação\n",
        "}\n",
        "</script>\n",
        "\"\"\"\n",
        "# helper to connect JS->python (Colab)\n",
        "from google.colab import output\n",
        "def _run_py_code(code):\n",
        "    exec(code, globals())\n",
        "output.register_callback('notebook.RunPython', _run_py_code)\n",
        "\n",
        "def show_recorder_widget():\n",
        "    \"\"\"Mostra botão para gravar ~5s no navegador (salva /content/recorded.webm).\"\"\"\n",
        "    display(HTML(record_js))\n",
        "    print(\"Clique em 'Gravar 5s'. Ao fim, execute stt_from_recorded()\")\n",
        "\n",
        "def stt_from_recorded(lang: str = LANG):\n",
        "    \"\"\"Converte /content/recorded.webm -> text via stt_from_file\"\"\"\n",
        "    webm = \"/content/recorded.webm\"\n",
        "    if not os.path.exists(webm):\n",
        "        raise FileNotFoundError(\"Arquivo /content/recorded.webm não encontrado. Use show_recorder_widget() primeiro.\")\n",
        "    # converte webm -> wav\n",
        "    audio = AudioSegment.from_file(webm)\n",
        "    tmp_wav = \"/content/recorded.wav\"\n",
        "    audio.set_frame_rate(16000).set_channels(1).export(tmp_wav, format=\"wav\")\n",
        "    return stt_from_file(tmp_wav, lang=lang)"
      ],
      "metadata": {
        "id": "4YlP243IaP3K"
      },
      "execution_count": 34,
      "outputs": []
    },
    {
      "cell_type": "markdown",
      "source": [
        "# 5) Intent matching (simples, baseado em palavras-chave)"
      ],
      "metadata": {
        "id": "dyKv7tykd46T"
      }
    },
    {
      "cell_type": "code",
      "source": [
        "def parse_intent(text: str):\n",
        "    \"\"\"Retorna (intent, params). Intents: wiki_search, youtube_search, find_pharmacy, tts_playback, unknown\"\"\"\n",
        "    txt = text.lower()\n",
        "    # wikipedia intent\n",
        "    m = re.search(r'\\b(wikipedia|wik[píi]a|pesquise no wikipedia|pesquisar no wikipedia)\\b', txt)\n",
        "    if m:\n",
        "        # tenta extrair tópico após 'sobre' ou 'pesquise ...'\n",
        "        topic = None\n",
        "        # busca \"sobre X\"\n",
        "        mm = re.search(r'(?:sobre|sobre o|sobre a)\\s+(.+)', text, re.IGNORECASE)\n",
        "        if mm:\n",
        "            topic = mm.group(1).strip()\n",
        "        else:\n",
        "            # fallback: pega últimas 6 palavras\n",
        "            topic = \" \".join(text.split()[-6:])\n",
        "        return (\"wiki_search\", {\"topic\": topic})\n",
        "    # youtube search\n",
        "    if any(k in txt for k in [\"youtube\", \"youtub\", \"vídeo\", \"toque no youtube\", \"abrir youtube\", \"pesquisar no youtube\"]):\n",
        "        # extrair termo\n",
        "        mm = re.search(r'(?:youtube|vídeo|pesquisar no youtube|abrir youtube)\\s*(?:sobre|de|:)?\\s*(.*)', text, re.IGNORECASE)\n",
        "        term = mm.group(1).strip() if mm and mm.group(1).strip() else text\n",
        "        return (\"youtube_search\", {\"term\": term})\n",
        "    # find pharmacy\n",
        "    if any(k in txt for k in [\"farmácia\", \"farmacia\", \"drogaria\", \"remédio próximo\", \"farmácia mais próxima\", \"drogaria mais próxima\"]):\n",
        "        return (\"find_pharmacy\", {\"city\": DEFAULT_CITY})\n",
        "    # tts playback (user asked to speak)\n",
        "    if any(k in txt for k in [\"diga\", \"fale\", \"falar\", \"lê\", \"ler\"]):\n",
        "        # tenta extrair texto entre aspas ou após comando\n",
        "        mm = re.search(r'[\"“](.+?)[\"”]', text)\n",
        "        snippet = mm.group(1) if mm else re.sub(r'.*(diga|fale|ler|lê)\\s*', '', text, flags=re.IGNORECASE)\n",
        "        return (\"tts_playback\", {\"text\": snippet.strip()})\n",
        "    return (\"unknown\", {})"
      ],
      "metadata": {
        "id": "NZfrUMPcaSr6"
      },
      "execution_count": 35,
      "outputs": []
    },
    {
      "cell_type": "markdown",
      "source": [
        "# 6) Handlers: executar ação para cada intent"
      ],
      "metadata": {
        "id": "Evr4qvdJeC8b"
      }
    },
    {
      "cell_type": "code",
      "source": [
        "def handle_wiki(topic: str, sentences: int = 3):\n",
        "    \"\"\"Busca sumário no Wikipedia e retorna texto + link\"\"\"\n",
        "    if not topic:\n",
        "        return {\"text\": \"Tópico para Wikipédia não especificado.\", \"link\": None}\n",
        "    try:\n",
        "        summary = wikipedia.summary(topic, sentences=sentences)\n",
        "        page = wikipedia.page(topic, auto_suggest=True, redirect=True)\n",
        "        link = page.url\n",
        "        return {\"text\": summary, \"link\": link}\n",
        "    except Exception as e:\n",
        "        return {\"text\": f\"Erro ao buscar no Wikipédia: {e}\", \"link\": None}\n",
        "\n",
        "def handle_youtube(term: str):\n",
        "    \"\"\"Gera link de busca no YouTube e frase de confirmação\"\"\"\n",
        "    if not term:\n",
        "        term = \"\"\n",
        "    q = urllib.parse.quote_plus(term)\n",
        "    url = f\"https://www.youtube.com/results?search_query={q}\"\n",
        "    return {\"text\": f\"Abrindo pesquisa no YouTube para: {term}\", \"link\": url}\n",
        "\n",
        "def handle_find_pharmacy(city: str = DEFAULT_CITY):\n",
        "    \"\"\"Gera Google Maps search para farmácia perto da cidade\"\"\"\n",
        "    q = urllib.parse.quote_plus(f\"farmácia perto de {city}\")\n",
        "    url = f\"https://www.google.com/maps/search/{q}\"\n",
        "    return {\"text\": f\"Localizando farmácias próximas em {city}\", \"link\": url}"
      ],
      "metadata": {
        "id": "IVdIsFv2aVYb"
      },
      "execution_count": 36,
      "outputs": []
    },
    {
      "cell_type": "markdown",
      "source": [
        "# 7) Pipeline principal: recebe texto (STT) -> parse_intent -> handler -> TTS + retorno de links"
      ],
      "metadata": {
        "id": "ilcepgwieGsj"
      }
    },
    {
      "cell_type": "code",
      "source": [
        "def assistant_pipeline_from_text(text: str, speak_result: bool = True):\n",
        "    \"\"\"Executa pipeline completo a partir de texto reconhecido.\"\"\"\n",
        "    intent, params = parse_intent(text)\n",
        "    if intent == \"wiki_search\":\n",
        "        res = handle_wiki(params.get(\"topic\",\"\"))\n",
        "        if speak_result:\n",
        "            tts_play(res[\"text\"])\n",
        "        out_html = f\"<b>Wikipédia (tópico: {params.get('topic','-')}):</b><br>{res['text'][:800]}<br>\"\n",
        "        if res.get(\"link\"):\n",
        "            out_html += f'<a href=\"{res[\"link\"]}\" target=\"_blank\">Abrir página no Wikipédia</a>'\n",
        "        display(HTML(out_html))\n",
        "        return res\n",
        "    elif intent == \"youtube_search\":\n",
        "        res = handle_youtube(params.get(\"term\",\"\"))\n",
        "        if speak_result:\n",
        "            tts_play(res[\"text\"])\n",
        "        display(HTML(f'<a href=\"{res[\"link\"]}\" target=\"_blank\">{res[\"text\"]} — abrir YouTube</a>'))\n",
        "        return res\n",
        "    elif intent == \"find_pharmacy\":\n",
        "        res = handle_find_pharmacy(params.get(\"city\", DEFAULT_CITY))\n",
        "        if speak_result:\n",
        "            tts_play(res[\"text\"])\n",
        "        display(HTML(f'<a href=\"{res[\"link\"]}\" target=\"_blank\">{res[\"text\"]} — abrir Maps</a>'))\n",
        "        return res\n",
        "    elif intent == \"tts_playback\":\n",
        "        txt = params.get(\"text\",\"\")\n",
        "        if not txt: txt = \"Comando de fala sem conteúdo.\"\n",
        "        tts_play(txt)\n",
        "        return {\"text\": txt}\n",
        "    else:\n",
        "        tts_play(\"Desculpe, não entendi o comando.\")\n",
        "        display(HTML(f\"<b>Intent desconhecida.</b> Texto recebido: {text}\"))\n",
        "        return {\"text\": \"\", \"unknown\": True}"
      ],
      "metadata": {
        "id": "8fPPcPJXaYC6"
      },
      "execution_count": 37,
      "outputs": []
    },
    {
      "cell_type": "code",
      "execution_count": 38,
      "metadata": {
        "colab": {
          "base_uri": "https://localhost:8080/"
        },
        "id": "Vc3F2OBaZJA4",
        "outputId": "b5ade2f7-afc5-4c61-cb49-608327892d36"
      },
      "outputs": [
        {
          "output_type": "stream",
          "name": "stdout",
          "text": [
            "Células prontas. Exemplos de uso:\n",
            "1) Gravar via navegador: show_recorder_widget() -> depois stt = stt_from_recorded() -> assistant_pipeline_from_text(stt)\n",
            "2) Fazer upload de arquivo de áudio (wav/mp3) e usar stt_from_file('/path/file.wav') -> assistant_pipeline_from_text(stt)\n",
            "3) Sintetizar texto: tts_play('Olá pesquisador')\n",
            "\n"
          ]
        }
      ],
      "source": [
        "# 8) Exemplos de uso (instruções)\n",
        "print(\"Células prontas. Exemplos de uso:\\n\"\n",
        "      \"1) Gravar via navegador: show_recorder_widget() -> depois stt = stt_from_recorded() -> assistant_pipeline_from_text(stt)\\n\"\n",
        "      \"2) Fazer upload de arquivo de áudio (wav/mp3) e usar stt_from_file('/path/file.wav') -> assistant_pipeline_from_text(stt)\\n\"\n",
        "      \"3) Sintetizar texto: tts_play('Olá pesquisador')\\n\")"
      ]
    },
    {
      "cell_type": "markdown",
      "source": [
        "# Exemplo runtime (comentado para não executar automaticamente)"
      ],
      "metadata": {
        "id": "aOUcDK5pcF-K"
      }
    },
    {
      "cell_type": "code",
      "source": [
        "show_recorder_widget()"
      ],
      "metadata": {
        "colab": {
          "base_uri": "https://localhost:8080/",
          "height": 125
        },
        "id": "4s1oPC4ccjH7",
        "outputId": "e3b8de8f-861b-405d-d932-79b91018e41c"
      },
      "execution_count": 39,
      "outputs": [
        {
          "output_type": "display_data",
          "data": {
            "text/plain": [
              "<IPython.core.display.HTML object>"
            ],
            "text/html": [
              "\n",
              "<button id=\"record\">Gravar 5s</button>\n",
              "<script>\n",
              "const btn = document.getElementById('record');\n",
              "btn.onclick = async () => {\n",
              "  btn.disabled = true;\n",
              "  const stream = await navigator.mediaDevices.getUserMedia({ audio: true });\n",
              "  const mediaRecorder = new MediaRecorder(stream);\n",
              "  const chunks = [];\n",
              "  mediaRecorder.ondataavailable = e => chunks.push(e.data);\n",
              "  mediaRecorder.onstop = async () => {\n",
              "    const blob = new Blob(chunks, { type: 'audio/webm' });\n",
              "    const arrayBuffer = await blob.arrayBuffer();\n",
              "    const bytes = new Uint8Array(arrayBuffer);\n",
              "    // send to python\n",
              "    const base64 = btoa(String.fromCharCode(...bytes));\n",
              "    const py = `\n",
              "from base64 import b64decode\n",
              "b = b64decode(\"${base64}\")\n",
              "open(\"/content/recorded.webm\",\"wb\").write(b)\n",
              "print(\"saved /content/recorded.webm\")\n",
              "`;\n",
              "    google.colab.kernel.invokeFunction('notebook.RunPython', [py], {});\n",
              "    btn.disabled = false;\n",
              "  };\n",
              "  mediaRecorder.start();\n",
              "  setTimeout(() => mediaRecorder.stop(), 5000); // 5s gravação\n",
              "}\n",
              "</script>\n"
            ]
          },
          "metadata": {}
        },
        {
          "output_type": "stream",
          "name": "stdout",
          "text": [
            "Clique em 'Gravar 5s'. Ao fim, execute stt_from_recorded()\n",
            "saved /content/recorded.webm\n",
            "saved /content/recorded.webm\n",
            "saved /content/recorded.webm\n",
            "saved /content/recorded.webm\n"
          ]
        }
      ]
    },
    {
      "cell_type": "markdown",
      "source": [
        "# after recording:"
      ],
      "metadata": {
        "id": "KUsZVOAPcl4U"
      }
    },
    {
      "cell_type": "code",
      "source": [
        "text = stt_from_recorded();\n",
        "print('STT:', text);"
      ],
      "metadata": {
        "colab": {
          "base_uri": "https://localhost:8080/"
        },
        "id": "ZEP87mF4cDwD",
        "outputId": "f9218023-2bba-4126-cc75-e2f43f4ddb96"
      },
      "execution_count": 46,
      "outputs": [
        {
          "output_type": "stream",
          "name": "stdout",
          "text": [
            "STT: Abrir YouTube\n"
          ]
        }
      ]
    },
    {
      "cell_type": "code",
      "source": [
        "assistant_pipeline_from_text(text)"
      ],
      "metadata": {
        "colab": {
          "base_uri": "https://localhost:8080/",
          "height": 127
        },
        "id": "XtZhEngMc9Z6",
        "outputId": "7cd0985a-7cd6-49e3-ebd8-a40d0af051b6"
      },
      "execution_count": 47,
      "outputs": [
        {
          "output_type": "display_data",
          "data": {
            "text/plain": [
              "<IPython.lib.display.Audio object>"
            ],
            "text/html": [
              "\n",
              "                <audio  controls=\"controls\" autoplay=\"autoplay\">\n",
              "                    <source src=\"data:audio/wav;base64,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\" type=\"audio/wav\" />\n",
              "                    Your browser does not support the audio element.\n",
              "                </audio>\n",
              "              "
            ]
          },
          "metadata": {}
        },
        {
          "output_type": "display_data",
          "data": {
            "text/plain": [
              "<IPython.core.display.HTML object>"
            ],
            "text/html": [
              "<a href=\"https://www.youtube.com/results?search_query=Abrir+YouTube\" target=\"_blank\">Abrindo pesquisa no YouTube para: Abrir YouTube — abrir YouTube</a>"
            ]
          },
          "metadata": {}
        },
        {
          "output_type": "execute_result",
          "data": {
            "text/plain": [
              "{'text': 'Abrindo pesquisa no YouTube para: Abrir YouTube',\n",
              " 'link': 'https://www.youtube.com/results?search_query=Abrir+YouTube'}"
            ]
          },
          "metadata": {},
          "execution_count": 47
        }
      ]
    },
    {
      "cell_type": "markdown",
      "source": [
        "# Notas técnicas (curtas)"
      ],
      "metadata": {
        "id": "hbMfUKzmdQCK"
      }
    },
    {
      "cell_type": "markdown",
      "source": [
        "\n",
        "\n",
        "speech_recognition com recognize_google exige conexão; para solução offline recomenda-se pocketsphinx (instalação adicional) ou modelos locais (VOSK).\n",
        "\n",
        "gTTS usa Google Translate TTS (requisição HTTP). Para uso offline/produção, considerar pyttsx3 ou modelos TTS locais (Tacotron+WaveGlow, etc.).\n",
        "\n",
        "O intent matcher é keyword-based (simples). Para produção substitua por um classificador de intenção (transformer/Rasa/spaCy) com NLU e extração de entidades para robustez."
      ],
      "metadata": {
        "id": "zcBm2kFeZlIa"
      }
    },
    {
      "cell_type": "markdown",
      "source": [
        "# Referências (3)"
      ],
      "metadata": {
        "id": "lU_RSO5KdSvi"
      }
    },
    {
      "cell_type": "markdown",
      "source": [
        "\n",
        "\n",
        "Python SpeechRecognition library — https://pypi.org/project/SpeechRecognition/\n",
        "\n",
        "gTTS (Google Text-to-Speech) — https://pypi.org/project/gTTS/\n",
        "\n",
        "Wikipedia API for Python — https://pypi.org/project/wikipedia/"
      ],
      "metadata": {
        "id": "YJLS9hKVZpY7"
      }
    }
  ]
}