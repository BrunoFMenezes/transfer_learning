{
 "cells": [
  {
   "cell_type": "markdown",
   "id": "1b078b30",
   "metadata": {},
   "source": [
    "# Demo: Py Test Generator\n",
    "\n",
    "Use este notebook para executar o agente localmente."
   ]
  },
  {
   "cell_type": "code",
   "execution_count": null,
   "id": "8ded70e6",
   "metadata": {},
   "outputs": [],
   "source": [
    "from agent.agent import generate_tests_for_file\n",
    "print('Generating tests...')\n",
    "print(generate_tests_for_file('examples/math_ops.py', out_dir='tests'))"
   ]
  }
 ],
 "metadata": {},
 "nbformat": 4,
 "nbformat_minor": 5
}
