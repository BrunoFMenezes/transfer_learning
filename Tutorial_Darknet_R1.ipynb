{
  "nbformat": 4,
  "nbformat_minor": 0,
  "metadata": {
    "colab": {
      "provenance": [],
      "private_outputs": true
    },
    "kernelspec": {
      "name": "python3",
      "display_name": "Python 3"
    },
    "accelerator": "GPU"
  },
  "cells": [
    {
      "cell_type": "markdown",
      "source": [
        "# Como treinar YOLOv3 usando Darknet em um notebook Colab e otimizar o tempo de carregamento da VM"
      ],
      "metadata": {
        "id": "SkHcF9WFHzWZ"
      }
    },
    {
      "cell_type": "markdown",
      "source": [
        "## Bem-vindo!"
      ],
      "metadata": {
        "id": "niHGaySxH2mY"
      }
    },
    {
      "cell_type": "markdown",
      "metadata": {
        "id": "Cqo1gtPX6BXO"
      },
      "source": [
        "Este notebook Colab mostrará como:\n",
        "\n",
        "* Treinar um modelo **Yolo v3** usando **Darknet** usando a GPU Colab de **12 GB de RAM**.\n",
        "* Transformar os notebooks Colab em uma ferramenta eficaz para trabalhar em projetos reais. Lidando com a desvantagem de um tempo de execução que **explode a cada 12 horas**!\n",
        "* Trabalhando diretamente dos arquivos no seu computador.\n",
        "* Configure seu notebook para instalar tudo o que você precisa e começar a treinar em cerca de um minuto (testado com um conjunto de dados de 550 MB).\n",
        "* Receba seus pesos treinados diretamente no seu computador durante o treinamento. Enquanto o notebook treina, você pode verificar como ele está usando os pesos treinados no seu computador.\n",
        "\n",
        "#### Este notebook faz parte da publicação [Como treinar o YOLOv3 usando o framework Darknet e otimizar os tempos de carregamento da VM em tempo de execução](http://blog.ibanyez.info/blogs/coding/20190410-run-a-google-colab-notebook-to-train-yolov3-using-darknet-in/). Recomendo sua visita! Você encontrará uma explicação mais aprofundada sobre o Google Colab, os benefícios e as limitações desta excelente ferramenta.\n",
        "\n",
        "### Estes são os passos que seguiremos:\n",
        "\n",
        "* Configurar o Google Drive e mapeá-lo como _Drive_ de rede.\n",
        "* Alguns utilitários para auxiliar em algumas tarefas.\n",
        "* Configurar os pré-requisitos no tempo de execução.\n",
        "* Verificar a instalação do CUDA na VM em tempo de execução.\n",
        "* Instalar o cuDNN.\n",
        "* Clonar e compilar o Darknet. Usaremos um repositório baseado no [repositório Darknet do AlexeyAB](https://github.com/AlexeyAB/darknet/). Apliquei algumas alterações para possibilitar o carregamento de arquivos de `/Meu Drive/` e reduzi o número de logs no console para acelerar o notebook.\n",
        "* Verificaremos se tudo funciona perfeitamente.\n",
        "* Explicamos como gerenciar seus arquivos YOLO no seu computador e eles serão usados ​​de forma transparente a partir deste notebook.\n",
        "\n",
        "> _**NOTA:** Células com a anotação **`# Célula não necessária`**. Podem ser removidas sem qualquer impacto. São apenas conteúdo explicativo._\n",
        "\n",
        "### Sem mais delongas, vamos começar!\n"
      ]
    },
    {
      "cell_type": "markdown",
      "source": [
        "## PASSO 0. Configurar o tempo de execução para funcionar com a GPU"
      ],
      "metadata": {
        "id": "kdNp0vMRH7FZ"
      }
    },
    {
      "cell_type": "markdown",
      "metadata": {
        "id": "G4J9sFi39ScM"
      },
      "source": [
        "\n",
        "\n",
        "Queremos usar a aceleração de hardware da GPU com **12 GB de RAM**!\n",
        "\n",
        "Acesse **> Menu > Tempo de Execução > Configurar Tipo de Tempo de Execução** e selecione **GPU** no menu suspenso **Acelerador de Hardware**"
      ]
    },
    {
      "cell_type": "markdown",
      "source": [
        "## PASSO 1. Conecte seus arquivos ao Google Drive"
      ],
      "metadata": {
        "id": "LQ7tYDhtH_mJ"
      }
    },
    {
      "cell_type": "markdown",
      "metadata": {
        "id": "uOJg1x9gLvcj"
      },
      "source": [
        "\n",
        "Para ter seus arquivos no seu computador local, você precisa instalar e configurar o Backup e Sincronização do Google para manter uma pasta do seu Drive sincronizada com uma pasta no seu computador.\n",
        "\n",
        "\n",
        "\n",
        "1. Crie uma pasta no seu Google Drive chamada _**darknet**_\n",
        "2. Configure o Backup e Sincronização do Google da seguinte forma. Se você não fala espanhol, talvez aprenda algumas palavras! **;)**\n",
        "\n",
        "\n",
        "**Após esta etapa, você terá uma pasta chamada _darknet_ no seu computador local. Esta pasta é onde você trabalhará com os arquivos do seu computador**\n",
        "\n",
        "> _**DICA** - Precisamos ter um bom desempenho ao baixar dados do Drive para o Colab. Ter muitos arquivos na pasta raiz do Drive pode deixar tudo bastante lento. É uma boa prática trabalhar com o Colab para mover todos os arquivos da pasta raiz para uma pasta_"
      ]
    },
    {
      "cell_type": "markdown",
      "source": [
        "## PASSO 2. Conecte o notebook Colab ao Google Drive"
      ],
      "metadata": {
        "id": "_jayz4CFICOh"
      }
    },
    {
      "cell_type": "markdown",
      "metadata": {
        "id": "xaAwkZv0rBQd"
      },
      "source": [
        "\n",
        "\n",
        "Agora, vamos mapear sua pasta do Google Drive. Este primeiro passo é o único que exigirá sua interação manual sempre que você executar o notebook.\n",
        "\n",
        "* Execute a seguinte célula _(Clique no botão Reproduzir ou pressione CTRL + ENTER)_ e clique no link para autorizar seu notebook a acessar o Google Drive.\n",
        "* Cole o código que o Google fornecerá a você e pressione `Enter`."
      ]
    },
    {
      "cell_type": "code",
      "metadata": {
        "id": "LJZRcEw0LoBd"
      },
      "source": [
        "# Esta célula importa a biblioteca do Drive e monta seu Google Drive como uma unidade local de VM. Você pode acessar seus arquivos do Drive\n",
        "# usando este caminho \"/content/gdrive/MyDrive/\"\n",
        "\n",
        "from google.colab import drive\n",
        "# drive.mount('/content/gdrive')\n",
        "drive.mount('/content/drive')"
      ],
      "execution_count": null,
      "outputs": []
    },
    {
      "cell_type": "markdown",
      "metadata": {
        "id": "V8pPjCXXvASq"
      },
      "source": [
        "Parabéns! Agora você pode acessar a pasta local do seu computador diretamente daqui!\n",
        "\n",
        "Confira!"
      ]
    },
    {
      "cell_type": "code",
      "metadata": {
        "id": "DrdyBxyZvLpM"
      },
      "source": [
        "# Célula não necessária\n",
        "# Liste o conteúdo da pasta local do seu computador\n",
        "# !ls -la \"/content/gdrive/My Drive/darknet\"\n",
        "!ls -la \"/content/drive/My Drive/darknet\""
      ],
      "execution_count": null,
      "outputs": []
    },
    {
      "cell_type": "code",
      "metadata": {
        "id": "sGNcZ9EtOK7k"
      },
      "source": [
        "!sudo apt-get install tree"
      ],
      "execution_count": null,
      "outputs": []
    },
    {
      "cell_type": "code",
      "metadata": {
        "id": "ZGsRuXM-OQBb"
      },
      "source": [
        "# !tree /content/gdrive/My\\ Drive/darknet/\n",
        "!tree /content/drive/My\\ Drive/darknet/"
      ],
      "execution_count": null,
      "outputs": []
    },
    {
      "cell_type": "markdown",
      "source": [
        "### NOTA DE ATUALIZAÇÃO"
      ],
      "metadata": {
        "id": "7moBAcZBIHVh"
      }
    },
    {
      "cell_type": "markdown",
      "metadata": {
        "id": "q1_APkL1nYbz"
      },
      "source": [
        "\n",
        "\n",
        "Se quiser simplificar seus caminhos, você pode usar um link simbólico:\n",
        "\n",
        "`!ln -s \"/content/gdrive/My Drive/darknet/\" /mydrive`\n",
        "\n",
        "Assim, você poderá acessar seus arquivos do Google Drive usando apenas o caminho `/mydrive`\n",
        "\n",
        "**CUIDADO: Todos os caminhos neste bloco de notas não usam links simbólicos. Lembre-se de alterar o caminho em todos os lugares**\n",
        "\n",
        "Agradecemos a **Dennis Kashkin** pela recomendação!"
      ]
    },
    {
      "cell_type": "code",
      "metadata": {
        "id": "yreDPcJdoo29"
      },
      "source": [
        "# Uncomment if you want to use Symbolic link\n",
        "#!ln -s /content/gdrive/My\\ Drive/darknet/ /mydrive\n",
        "#!ls /mydrive"
      ],
      "execution_count": null,
      "outputs": []
    },
    {
      "cell_type": "markdown",
      "source": [
        "## PASSO 2. Verifique a versão de lançamento do CUDA"
      ],
      "metadata": {
        "id": "IRtq288pIKZI"
      }
    },
    {
      "cell_type": "markdown",
      "metadata": {
        "id": "db68v7TmMTmR"
      },
      "source": [
        "\n",
        "\n",
        "O Nvidia CUDA vem pré-instalado nos notebooks Colab. Agora, vamos verificar a versão instalada.\n",
        "\n",
        "> _**ATENÇÃO:** Talvez em algum momento, a partir do momento em que escrevo estas linhas (19 de setembro de 2025), a versão do CUDA seja atualizada no Colab e você deva baixar outra versão do cuDNN na próxima etapa. Agora é a versão 12.5 e estamos usando o cuDNN (cudnn-10.0-linux-x64-v7.5.0.56.tgz) conforme necessário_"
      ]
    },
    {
      "cell_type": "code",
      "metadata": {
        "id": "ew5eGbl9MdKL"
      },
      "source": [
        "# This cell can be commented once you checked the current CUDA version\n",
        "# CUDA: Let's check that Nvidia CUDA is already pre-installed and which version is it. In some time from now maybe you\n",
        "!/usr/local/cuda/bin/nvcc --version\n"
      ],
      "execution_count": null,
      "outputs": []
    },
    {
      "cell_type": "code",
      "source": [
        "# !sudo apt-get -y install cudnn9-cuda-12"
      ],
      "metadata": {
        "id": "CAgSD5yc6rE2"
      },
      "execution_count": null,
      "outputs": []
    },
    {
      "cell_type": "code",
      "source": [
        "# !sudo apt-get -y install cudnn9-cuda-13"
      ],
      "metadata": {
        "id": "7e7sH5Az6wf2"
      },
      "execution_count": null,
      "outputs": []
    },
    {
      "cell_type": "code",
      "source": [
        "# 1) Informação da distribuição (preferível)\n",
        "!cat /etc/os-release\n",
        "\n",
        "# 2) Informação padronizada de distribuição (se disponível)\n",
        "!lsb_release -a\n",
        "\n",
        "# 3) Informação do kernel e arquitetura\n",
        "!uname -a"
      ],
      "metadata": {
        "id": "IfCt3Z2X6ESV"
      },
      "execution_count": null,
      "outputs": []
    },
    {
      "cell_type": "markdown",
      "source": [
        "## PASSO 3. Instale o cuDNN de acordo com a versão atual do CUDA"
      ],
      "metadata": {
        "id": "HaMISWT0ImQ5"
      }
    },
    {
      "cell_type": "markdown",
      "metadata": {
        "id": "v3nkYzWwMuBk"
      },
      "source": [
        "\n",
        "Agora, você precisa baixar o cuDNN do site da Nvidia. Você precisará se cadastrar no site.\n",
        "\n",
        "* Baixe o cuDNN do [site da Nvidia](https://developer.nvidia.com/cudnn)\n",
        "\n",
        "* No momento, como temos o _**CUDA 10.0**_ pré-instalado no ambiente de execução do Colab, você precisa baixar o [cuDNN v7.5.0.56 para CUDA v10.0](https://developer.nvidia.com/compute/machine-learning/cudnn/secure/v7.5.0.56/prod/10.0_20190219/cudnn-10.0-linux-x64-v7.5.0.56.tgz) - o arquivo é cudnn-10.0-linux-x64-v7.5.0.56.tgz\n",
        "\n",
        "* No seu computador local, crie uma pasta chamada _**cuDNN**_ na sua pasta local _**darknet**_. Copie o arquivo _**tgz**_ para lá\n",
        "\n"
      ]
    },
    {
      "cell_type": "code",
      "source": [
        "## Crie pasta em darknet e mova o .deb:\n",
        "# !cd \"/content/gdrive/MyDrive/darknet/\"\n",
        "# !cd /content/gdrive/MyDrive/darknet\n",
        "%cd /content/drive/MyDrive/darknet\n",
        "# !mkdir -p cuDNN"
      ],
      "metadata": {
        "id": "4BMs5i2fVQUi"
      },
      "execution_count": null,
      "outputs": []
    },
    {
      "cell_type": "code",
      "source": [
        "ls"
      ],
      "metadata": {
        "id": "KsZBF13xZD5n"
      },
      "execution_count": null,
      "outputs": []
    },
    {
      "cell_type": "code",
      "source": [
        "# mv ~/Downloads/cudnn-local-repo-ubuntu2204-9.13.0_1.0-1_amd64.deb ./cuDNN/\n",
        "%cd cuDNN\n",
        "# !cd \"/content/gdrive/MyDrive/darknet/cuDNN/\"\n",
        "# !cd \"/content/drive/MyDrive/darknet/cuDNN/\""
      ],
      "metadata": {
        "id": "iq2zeABtJdc5"
      },
      "execution_count": null,
      "outputs": []
    },
    {
      "cell_type": "code",
      "source": [
        "ls"
      ],
      "metadata": {
        "id": "lAvzoZQgZRSM"
      },
      "execution_count": null,
      "outputs": []
    },
    {
      "cell_type": "markdown",
      "source": [
        "/content/gdrive/MyDrive/darknet/cuDNN/cudnn-local-repo-ubuntu2204-9.13.0_1.0-1_amd64.deb"
      ],
      "metadata": {
        "id": "SbuBGbCbWgvD"
      }
    },
    {
      "cell_type": "code",
      "source": [
        "## Instale o instalador local (.deb) que configura o repositório APT:\n",
        "!sudo dpkg -i cudnn-local-repo-ubuntu2204-9.13.0_1.0-1_amd64.deb"
      ],
      "metadata": {
        "id": "JwhjMtK-KB64"
      },
      "execution_count": null,
      "outputs": []
    },
    {
      "cell_type": "markdown",
      "source": [
        "(Este dpkg -i cria um snapshot do repositório em /var/cudnn-local-* e adiciona metadados APT.)"
      ],
      "metadata": {
        "id": "GUAP2KfMKBwK"
      }
    },
    {
      "cell_type": "code",
      "source": [
        "## Importe a chave GPG do repositório local para o keyring do sistema:\n",
        "!sudo cp /var/cudnn-local-*/cudnn-*-keyring.gpg /usr/share/keyrings/\n",
        "# !sudo cp /var/cudnn-local-repo-ubuntu2204-9.13.0/cudnn-local-B46D6A3D-keyring.gpg /usr/share/keyrings/"
      ],
      "metadata": {
        "id": "tKGikbMKKZ6o"
      },
      "execution_count": null,
      "outputs": []
    },
    {
      "cell_type": "code",
      "source": [
        "## Atualize o cache APT:\n",
        "!sudo apt-get update"
      ],
      "metadata": {
        "id": "z9BHZfkrKiGY"
      },
      "execution_count": null,
      "outputs": []
    },
    {
      "cell_type": "code",
      "source": [
        "## Instale o meta-pacote cuDNN para CUDA 12:\n",
        "# meta-pacote que instala runtime + dev compatíveis com CUDA 12\n",
        "!sudo apt-get -y install cudnn9-cuda-12"
      ],
      "metadata": {
        "id": "XEfuACMvKvFI"
      },
      "execution_count": null,
      "outputs": []
    },
    {
      "cell_type": "markdown",
      "source": [
        "Ou, se preferir instalar pacotes específicos:"
      ],
      "metadata": {
        "id": "6S1K1JtRK0-R"
      }
    },
    {
      "cell_type": "code",
      "source": [
        "# sudo apt-get -y install libcudnn9-cuda-12 libcudnn9-dev-cuda-12"
      ],
      "metadata": {
        "id": "ATBZv3V9KyG8"
      },
      "execution_count": null,
      "outputs": []
    },
    {
      "cell_type": "markdown",
      "source": [
        "Verificações rápidas"
      ],
      "metadata": {
        "id": "PAAX3K1EK8aB"
      }
    },
    {
      "cell_type": "code",
      "source": [
        "## Verificar pacotes instalados:\n",
        "!dpkg -l | grep cudnn"
      ],
      "metadata": {
        "id": "iHLDgb6oK9C5"
      },
      "execution_count": null,
      "outputs": []
    },
    {
      "cell_type": "code",
      "source": [
        "## Verificar bibliotecas no diretório CUDA:\n",
        "%ls -l /usr/local/cuda-12.5/lib64/libcudnn*"
      ],
      "metadata": {
        "id": "w2VeUcgMLBgY"
      },
      "execution_count": null,
      "outputs": []
    },
    {
      "cell_type": "code",
      "source": [
        "## Teste funcional (compilar e executar amostra):\n",
        "!sudo apt-get -y install libcudnn9-samples\n",
        "!cd $HOME/cudnn_samples_v9/mnistCUDNN\n",
        "!make\n",
        "!./mnistCUDNN"
      ],
      "metadata": {
        "id": "2tujfJy1LOBB"
      },
      "execution_count": null,
      "outputs": []
    },
    {
      "cell_type": "markdown",
      "source": [
        "(Saída bem-sucedida confirma runtime/cuDNN operacional.)\n",
        "\n",
        "Notas para uso no Colab\n",
        "\n",
        "Colab não permite fazer download do instalador cuDNN direto sem login; fluxo recomendado:\n",
        "\n",
        "Baixe o .deb localmente (já feito).\n",
        "\n",
        "Faça upload do .deb ao Colab (from google.colab import files; files.upload()) ou disponibilize via link privado.\n",
        "\n",
        "No Colab, execute os mesmos comandos sudo dpkg -i ..., cp /var/cudnn-local-*/cudnn-*-keyring.gpg /usr/share/keyrings/, apt-get update e apt-get install cudnn9-cuda-12.\n",
        "\n",
        "Atenção: permissões sudo e persistência no Colab podem variar; ajuste conforme saída do notebook.\n",
        "\n",
        "Riscos / pontos de atenção\n",
        "\n",
        "Apenas uma versão principal de cuDNN 9 para CUDA 12 deve estar ativa por vez (evite múltiplos libcudnn para versões diferentes).\n",
        "\n",
        "Confirme versão do driver NVIDIA (nvidia-smi) — driver deve atender requisito mínimo indicado na support matrix do cuDNN.\n",
        "\n",
        "Guarde o .deb original em darknet/cuDNN para auditoria/rollback.\n",
        "\n",
        "Referências\n",
        "\n",
        "NVIDIA — Installing cuDNN on Linux (package manager / local installer).\n",
        "NVIDIA Docs\n",
        "\n",
        "NVIDIA — cuDNN Downloads / Release 9.13.0 (página de download / nomes de pacotes).\n",
        "NVIDIA Developer\n",
        "\n",
        "Guia prático de instalação CUDA/cuDNN (procedimentos APT / verificação) — exemplos e melhores práticas.\n",
        "DigitalOcean"
      ],
      "metadata": {
        "id": "R-0xzfGNLZH0"
      }
    },
    {
      "cell_type": "code",
      "metadata": {
        "id": "r_A8LDvyM7x5"
      },
      "source": [
        "# # Estamos descompactando os arquivos cuDNN da sua pasta do Drive diretamente para as pastas CUDA da VM\n",
        "# !tar -xzvf gdrive/My\\ Drive/darknet/cuDNN/cudnn-10.0-linux-x64-v7.5.0.56.tgz -C /usr/local/\n",
        "# !chmod a+r /usr/local/cuda/include/cudnn.h\n",
        "\n",
        "# # Agora verificamos a versão que já instalamos. Podemos comentar esta linha em execuções futuras\n",
        "# !cat /usr/local/cuda/include/cudnn.h | grep CUDNN_MAJOR -A 2"
      ],
      "execution_count": null,
      "outputs": []
    },
    {
      "cell_type": "markdown",
      "source": [
        "## PASSO 4. Instalando o Darknet"
      ],
      "metadata": {
        "id": "j1DlW_hWeauL"
      }
    },
    {
      "cell_type": "markdown",
      "metadata": {
        "id": "9x9BFQOfNowN"
      },
      "source": [
        "\n",
        "Ótimo!! Temos tudo o que é necessário para começar a trabalhar com o Darknet.\n",
        "\n",
        "Este notebook funciona com uma versão ligeiramente modificada do Darknet, baseada no [repositório AlexeyAB Darknet](https://github.com/AlexeyAB/darknet/).\n",
        "As alterações aplicadas ao repositório original são:\n",
        "* Permitindo o uso de espaços nos arquivos de configuração do Darknet _**obj.data**_. Necessário para trabalhar diretamente com o Google Drive.\n",
        "* Remoção de alguns logs a cada período. O repositório original grava mais logs do que o notebook Colab consegue sincronizar. Isso cria uma longa fila durante o treinamento. Esta versão só mostra os resultados após cada iteração.\n",
        "\n",
        "Você pode dar uma olhada no código no [repositório do GitHub](https://github.com/kriyeng/darknet/)\n",
        "\n",
        "> _**TRUQUE**: Como queremos executar o notebook rapidamente todas as vezes, compilaremos o Darknet apenas na primeira vez que executarmos este notebook. Em seguida, salvaremos a versão compilada no seu disco. Para as execuções futuras, copiaremos a versão compilada em vez de compilar novamente.\n",
        "\n",
        "**Aqui vai nosso primeiro truque para acelerar o tempo de carregamento em tempo de execução**\n",
        "\n",
        "* Na primeira vez, iremos:\n",
        "* Clonar e compilar o projeto Darknet.\n",
        "* Copiar a versão compilada para o nosso Google Drive Floder\n",
        "\n",
        "* Nas próximas vezes, em vez de compilá-lo novamente a cada carregamento em tempo de execução, copiaremos a versão compilada para a nossa máquina virtual!\n",
        "\n",
        "Ao compilar pela primeira vez, a última linha de saída deve ser algo como isto:\n",
        "\n",
        "`g++ -std=c++11 -Iinclude/ -I3rdparty/stb/include -DOPENCV `pkg-config --cflags opencv` -DGPU (...)`"
      ]
    },
    {
      "cell_type": "markdown",
      "source": [
        "## PASSO 4-A. Clonando e compilando o Darkent. SÓ PRECISA SER EXECUTADO NA PRIMEIRA EXECUÇÃO!!"
      ],
      "metadata": {
        "id": "ph1dP32Je5MT"
      }
    },
    {
      "cell_type": "markdown",
      "metadata": {
        "id": "UXi9S5XAIP3A"
      },
      "source": [
        "\n",
        "Nesta etapa, clonaremos o repositório do Darkent e o compilaremos.\n",
        "* Clonar Repositório\n",
        "* Compilar o Darknet\n",
        "* Copiar a versão compilada para o Drive\n",
        "\n",
        "Ao final da compilação, a última linha de saída deve ser algo como isto:\n",
        "\n",
        "_`g++ -std=c++11 -Iinclude/ -I3rdparty/stb/include -DOPENCV `pkg-config --cflags opencv` -DGPU (...)_`"
      ]
    },
    {
      "cell_type": "code",
      "source": [
        "# # Deixe este código sem comentário na primeira execução do seu notebook ou se precisar recompilar o darknet novamente.\n",
        "# # Comente este código nas execuções futuras.\n",
        "# !git clone https://github.com/kriyeng/darknet/\n",
        "# # %cd darknet\n",
        "# %cd /content/drive/MyDrive/darknet\n",
        "\n",
        "# # Verifique a pasta\n",
        "# !ls\n",
        "\n",
        "# # Tenho uma branch onde fiz as alterações comentadas acima\n",
        "# !git checkout feature/google-colab\n",
        "\n",
        "# #Compilar Darknet\n",
        "# !make\n",
        "\n",
        "# #Copia a versão compilada do Darknet para o Google Drive\n",
        "# # !cp ./darknet /content/gdrive/My\\ Drive/darknet/bin/darknet\n",
        "# !cp ./darknet /content/drive/My\\ Drive/darknet/bin/darknet"
      ],
      "metadata": {
        "id": "SrI1Q5VcgMAU"
      },
      "execution_count": null,
      "outputs": []
    },
    {
      "cell_type": "markdown",
      "source": [
        "## PASSO 4-B. Copiando a versão compilada do Darknet do Drive. DESCOMENTAR APÓS A PRIMEIRA EXECUÇÃO"
      ],
      "metadata": {
        "id": "g3XQ0nWIjMxt"
      }
    },
    {
      "cell_type": "markdown",
      "metadata": {
        "id": "rrVEej6lIHTI"
      },
      "source": [
        "\n",
        "Copie a versão compilada do Darknet do Drive para a VM.\n",
        "* Crie a pasta Darknet local\n",
        "* Copie o arquivo Darknet\n",
        "* Defina as permissões de execução"
      ]
    },
    {
      "cell_type": "code",
      "source": [
        "!ls"
      ],
      "metadata": {
        "id": "5jG89o2tkVEu"
      },
      "execution_count": null,
      "outputs": []
    },
    {
      "cell_type": "code",
      "metadata": {
        "id": "jAN2TNZ007c_"
      },
      "source": [
        "# ## Descomente após a primeira execução, quando tiver uma cópia do Darkent compilado no seu Google Drive\n",
        "\n",
        "# ## Crie um diretório para o Darknet e mova-o para lá\n",
        "# !mkdir darknet\n",
        "# %cd darknet\n",
        "\n",
        "# ## Copie a versão compilada do Darkent para a unidade local da VM\n",
        "# !cp /content/gdrive/My\\ Drive/darknet/bin/darknet ./darknet\n",
        "\n",
        "# ## Defina as permissões de execução para o Darknet\n",
        "# !chmod +x ./darknet"
      ],
      "execution_count": null,
      "outputs": []
    },
    {
      "cell_type": "markdown",
      "source": [
        "## PASSO 5. Configuração de tempo de execução concluída!"
      ],
      "metadata": {
        "id": "7Ux_Y1c9lNuE"
      }
    },
    {
      "cell_type": "markdown",
      "metadata": {
        "id": "fH7QRxBUOPiz"
      },
      "source": [
        "\n",
        "Vamos conferir!\n",
        "Se você estiver executando este notebook pela primeira vez, pode executar as seguintes células para verificar se tudo está funcionando conforme o esperado!\n",
        "\n",
        "\n"
      ]
    },
    {
      "cell_type": "markdown",
      "source": [
        "## Alguns Utilitários"
      ],
      "metadata": {
        "id": "D98HUlPwlYHM"
      }
    },
    {
      "cell_type": "markdown",
      "metadata": {
        "id": "CD378FjcrurC"
      },
      "source": [
        "Vamos adicionar alguns utilitários que talvez possam ser úteis.\n",
        "\n",
        "Esses utilitários são:\n",
        "* imgShow() - Ajudará a exibir uma imagem na VM remota\n",
        "* download() - Permitirá que você obtenha algum arquivo do seu notebook caso precise\n",
        "* upload() - Você pode enviar arquivos para sua pasta atual na VM remota.\n",
        "\n",
        "Agradecimentos a [Ivan Goncharov](https://twitter.com/Ivangrov) por essas ajudas!"
      ]
    },
    {
      "cell_type": "code",
      "metadata": {
        "id": "WD5FBWmjrsks"
      },
      "source": [
        "## Baixar arquivos\n",
        "def imShow(path):\n",
        "  import cv2\n",
        "  import matplotlib.pyplot as plt\n",
        "  %matplotlib inline\n",
        "\n",
        "  image = cv2.imread(path)\n",
        "  height, width = image.shape[:2]\n",
        "  resized_image = cv2.resize(image,(3*width, 3*height), interpolation = cv2.INTER_CUBIC)\n",
        "\n",
        "  fig = plt.gcf()\n",
        "  fig.set_size_inches(18, 10)\n",
        "  plt.axis(\"off\")\n",
        "  #plt.rcParams['figure.figsize'] = [10, 5]\n",
        "  plt.imshow(cv2.cvtColor(resized_image, cv2.COLOR_BGR2RGB))\n",
        "  plt.show()\n",
        "\n",
        "\n",
        "def upload():\n",
        "  from google.colab import files\n",
        "  uploaded = files.upload()\n",
        "  for name, data in uploaded.items():\n",
        "    with open(name, 'wb') as f:\n",
        "      f.write(data)\n",
        "      print ('saved file', name)\n",
        "def download(path):\n",
        "  from google.colab import files\n",
        "  files.download(path)"
      ],
      "execution_count": null,
      "outputs": []
    },
    {
      "cell_type": "code",
      "metadata": {
        "id": "eCou8imNOTTN"
      },
      "source": [
        "# Célula não necessária\n",
        "# Obter pesos yolov3\n",
        "!wget https://pjreddie.com/media/files/yolov3.weights"
      ],
      "execution_count": null,
      "outputs": []
    },
    {
      "cell_type": "markdown",
      "metadata": {
        "id": "JvySKrnh2cvG"
      },
      "source": [
        "**NOTA:** O teste a seguir só funcionará quando a darknet for compilada em tempo de execução. Esta demonstração usa alguns dados das pastas originais da darknet. Para seus projetos de detecção de objetos, você terá esses arquivos necessários em sua pasta local."
      ]
    },
    {
      "cell_type": "code",
      "metadata": {
        "id": "op1iEE3bOVR6"
      },
      "source": [
        "# # Célula não necessária\n",
        "# # Executa darknet usando o modelo YOLOv3 com pesos pré-treinados para detectar objetos em 'person.jpg'\n",
        "# !./darknet detect cfg/yolov3.cfg yolov3.weights data/person.jpg -dont-show\n",
        "\n",
        "# # Exibe o resultado usando o auxiliar imgShow()\n",
        "# imShow('predictions.jpg')"
      ],
      "execution_count": null,
      "outputs": []
    },
    {
      "cell_type": "markdown",
      "metadata": {
        "id": "ZreQ_407H1uw"
      },
      "source": [
        "## Se você consegue ver a mesma imagem abaixo, parabéns!! Neste ponto, você já configurou e está usando o Darknet!"
      ]
    },
    {
      "cell_type": "markdown",
      "source": [
        "# PARTE 2. Treinando o YOLO"
      ],
      "metadata": {
        "id": "jQbnxX0hnzQ1"
      }
    },
    {
      "cell_type": "markdown",
      "metadata": {
        "id": "j0t221djS1Gk"
      },
      "source": [
        "\n",
        "\n",
        "> _**DICA:** Sempre que quiser executar todas as suas células automaticamente, você pode ir em **> Menu > Tempo de Execução > Executar Tudo**. Talvez você não queira executar o notebook inteiro. Você pode escrever a seguinte célula onde deseja interromper o processo e descomentar o comando **`assert False`**. Isso gerará um erro e interromperá a execução de mais células. Agradecimentos a: [Este tópico](https://groups.google.com/forum/#!topic/jupyter/ELftSFSiedQ)_\n",
        "\n",
        "\n"
      ]
    },
    {
      "cell_type": "code",
      "metadata": {
        "id": "KQjODqIAS-er"
      },
      "source": [
        "# não vá além daqui com Executar Tudo\n",
        "#assert Falso"
      ],
      "execution_count": null,
      "outputs": []
    },
    {
      "cell_type": "markdown",
      "source": [
        "## PARTE 2. PASSO 0. Preparando seus dados e arquivos de configuração"
      ],
      "metadata": {
        "id": "tTm8_ZkEobGN"
      }
    },
    {
      "cell_type": "markdown",
      "metadata": {
        "id": "wkzMqLZV-rF5"
      },
      "source": [
        "\n",
        "\n",
        "Antes de prosseguir, vamos dar uma olhada nos arquivos de configuração que você precisa ter em sua unidade local _`darknet`_\n",
        "\n",
        "Você pode baixar a folha de dicas [aqui](http://blog.ibanyez.info/download/B20190410T000000072.png)\n",
        "\n",
        "Se precisar de explicações mais detalhadas sobre como preparar seus conjuntos de dados, anotações e aprendizado profundo, visite [Como treinar o YOLOv3 usando o framework Darknet e otimizar os tempos de carregamento da VM](link da postagem)\n",
        "\n",
        "> **DICA:** Você precisa configurar cuidadosamente os caminhos em seus arquivos de configuração. O arquivo _*obj.data*_ precisa ter espaços no caminho, com escape de _**\\**_. Assim: **_/content/gdrive/My\\ Drive/darknet/train.txt_**. Mas, nos arquivos **_train.txt_** e **_test.txt_**, isso não acontece!\n",
        "\n",
        "\n"
      ]
    },
    {
      "cell_type": "markdown",
      "source": [
        "## PARTE 2. ETAPA 1. Carregando arquivos para a unidade local da VM"
      ],
      "metadata": {
        "id": "mEd50xhdohbd"
      }
    },
    {
      "cell_type": "markdown",
      "metadata": {
        "id": "dKl1l_NgBn6y"
      },
      "source": [
        "\n",
        "A velocidade da rede entre o Google Drive e a VM Colab pode afetar a velocidade de acesso às imagens do seu conjunto de dados durante o treinamento.\n",
        "\n",
        "Você pode ter três abordagens possíveis, dependendo do tamanho do seu conjunto de dados.\n",
        "\n",
        "> _**NOTA:** Esta etapa não é necessária para todos os arquivos de configuração e pesos. Eles podem ser acessados ​​diretamente do Google Drive sem problemas consideráveis ​​de desempenho. **Esta etapa é apenas para as imagens e anotações do conjunto de dados**_\n",
        "\n",
        "* **Opção 1** - Você pode tentar usar diretamente os arquivos da pasta _`img/`_ do Google Drive. Dependendo do seu conjunto de dados, talvez isso seja mais do que suficiente.\n",
        "* **Opção 2** - Antes de iniciar o treinamento, copie seu conjunto de dados do Google Drive para o sistema de arquivos da VM local. Talvez seja uma boa prática copiar como um único arquivo tar e descompactar na pasta local _`img/`_ da sua VM.\n",
        "* **Opção 3** - Se o seu conjunto de dados for muito grande, talvez você possa fazer o upload para um repositório Git e clonar a partir dele. Normalmente, o tempo de transferência entre eles é muito melhor. Se você tiver que decidir, tenho a impressão de que o Bitbucket tem tempos de transferência mais rápidos do que o GitHub, mas, por favor, não tome isso como uma confirmação. **Não fiz testes específicos sobre isso, posso estar errado!**\n",
        "\n",
        "\n"
      ]
    },
    {
      "cell_type": "markdown",
      "source": [
        "#### PARTE 2. PASSO 1 - Opção 1. Usando arquivos diretamente do Google Drive."
      ],
      "metadata": {
        "id": "mTr-YOe8omjV"
      }
    },
    {
      "cell_type": "markdown",
      "metadata": {
        "id": "4Cp5EsZOEBv8"
      },
      "source": [
        "\n",
        "Você não precisa fazer nada aqui. Seu **_train.txt_** deve ter o caminho correto:\n",
        "* **/content/grdive/My Drive/darknet/img/image001.jpg**. Como mencionado anteriormente, não use espaços em branco de escape para os caminhos em _**train.txt**_ e _**test.txt**_"
      ]
    },
    {
      "cell_type": "markdown",
      "source": [
        "#### PARTE 2. PASSO 1 - Opção 2A. Copiando arquivos do Google Drive para o sistema de arquivos local da VM."
      ],
      "metadata": {
        "id": "vAGPMMMWorMk"
      }
    },
    {
      "cell_type": "markdown",
      "metadata": {
        "id": "x6zm1GHDF-8_"
      },
      "source": [
        "\n",
        "Execute a célula a seguir para copiar seus arquivos"
      ]
    },
    {
      "cell_type": "code",
      "metadata": {
        "id": "WewV3jU3B4Eo"
      },
      "source": [
        "## Copie arquivos do Google Drive para o sistema de arquivos local da VM\n",
        "!cp -r \"/content/gdrive/My Drive/darknet/img\" ./img\n"
      ],
      "execution_count": null,
      "outputs": []
    },
    {
      "cell_type": "markdown",
      "source": [
        "#### PARTE 2. ETAPA 1 - Opção 2B. Copiar os arquivos compactados do Google Drive para o sistema de arquivos local da VM e descompactar localmente."
      ],
      "metadata": {
        "id": "R3oCeg24oywd"
      }
    },
    {
      "cell_type": "markdown",
      "metadata": {
        "id": "PhUzh9F-GehW"
      },
      "source": [
        "\n",
        "Execute a célula a seguir para copiar seus arquivos e descompactá-los.\n",
        "Você pode usar o comando _*!ls*_ para verificar qual é o caminho correto que você precisa configurar no seu _*train.txt*_ para acessar corretamente as imagens do seu conjunto de dados."
      ]
    },
    {
      "cell_type": "code",
      "metadata": {
        "id": "vjnV7SDOGpdN"
      },
      "source": [
        "# Copie seu arquivo compactado\n",
        "#!cp -r \"/content/gdrive/Meu Drive/darknet/img/img.tgz\" ./img\n",
        "\n",
        "# Descompacte o arquivo compactado\n",
        "#!tar -xzvf ./img/img.tgz"
      ],
      "execution_count": null,
      "outputs": []
    },
    {
      "cell_type": "markdown",
      "source": [
        "#### PARTE 2. PASSO 1 - Opção 3. Clone seu conjunto de dados de imagens de um repositório Git. Parece ser a opção mais rápida."
      ],
      "metadata": {
        "id": "NyKEsKVUo5mE"
      }
    },
    {
      "cell_type": "markdown",
      "metadata": {
        "id": "trq0Nnt9Hdns"
      },
      "source": [
        "\n",
        "Execute a célula a seguir para clonar seu repositório de conjuntos de dados para o sistema de arquivos local da VM."
      ]
    },
    {
      "cell_type": "code",
      "metadata": {
        "id": "3Pa1Z9cxC290"
      },
      "source": [
        "# Git clone directly to ./img folder\n",
        "#!git clone https://[your-repository] ./img\n",
        "\n",
        "# Check the result - Uncomment when you checked for speed up further runs\n",
        "#!ls -la ./img"
      ],
      "execution_count": null,
      "outputs": []
    },
    {
      "cell_type": "markdown",
      "source": [
        "## PARTE 3. Finalmente, treine seu modelo!"
      ],
      "metadata": {
        "id": "oLcCUdpSo-cN"
      }
    },
    {
      "cell_type": "markdown",
      "metadata": {
        "id": "6_4747QHIGZ7"
      },
      "source": [
        "\n",
        "\n",
        "Ao executar o comando a seguir, seu modelo iniciará o treinamento.\n",
        "\n",
        "Você terá uma linha de log por época. A cada iteração, você verá como está o seu treinamento.\n",
        "\n",
        "> **DICA: O Darknet copia um backup dos seus pesos treinados a cada 100 iterações. Como mágica, este arquivo será sincronizado com o seu disco local no seu computador, assim como os backups que o Darknet faz a cada 1000 iterações, salvando-o em um arquivo separado.**\n",
        "\n",
        "\n",
        "\n"
      ]
    },
    {
      "cell_type": "code",
      "metadata": {
        "id": "13fRzkiQiPhW"
      },
      "source": [
        "!./darknet detector train \"/content/gdrive/My Drive/darknet/obj.data\" \"/content/gdrive/My Drive/darknet/yolov3.cfg\" \"/content/gdrive/My Drive/darknet/darknet53.conv.74\" -dont_show"
      ],
      "execution_count": null,
      "outputs": []
    },
    {
      "cell_type": "markdown",
      "source": [
        "## DICAS E TRUQUES DE DESEMPENHO"
      ],
      "metadata": {
        "id": "HqownJ8ZpDFE"
      }
    },
    {
      "cell_type": "markdown",
      "metadata": {
        "id": "0oWYkXA0LtCQ"
      },
      "source": [
        "\n",
        "\n",
        "* **Acelere o tempo de carregamento do tempo de execução:** Depois de verificar se tudo está funcionando, você pode remover células ou comentar linhas de código desnecessárias para reduzir o tempo de carregamento a cada execução.\n",
        "\n",
        "* **Como manter seu notebook ativo por mais tempo?:** Mantenha o navegador com o notebook aberto. Se você fechar o navegador, o notebook atingirá o tempo de inatividade e será removido do Serviço de Nuvem Colab. (90 minutos)\n",
        "\n",
        "* **Reexecute seu treinamento após atingir o tempo limite para tempos de execução do Colab (12 horas):**\n",
        "* Abra um novo notebook ou reconecte o atual.\n",
        "* Comente a célula acima e descomente a célula abaixo.\n",
        "* No seu computador local, copie o arquivo **backup/yolov3_last.weights** para a pasta **weights/** do seu computador local.\n",
        "* Execute Executar tudo no menu **> > Tempo de Execução > Executar Tudo**\n",
        "* _A etapa de cópia não é absolutamente necessária, mas gosto de manter uma cópia da última sessão de treinamento e não sobrescrever este arquivo nos próximos treinamentos._"
      ]
    },
    {
      "cell_type": "code",
      "metadata": {
        "id": "josdFFdVMyj3"
      },
      "source": [
        "# Inicie o treinamento no ponto em que o último tempo de execução terminou\n",
        "#!./darknet detector train \"/content/gdrive/My Drive/darknet/obj.data\" \"/content/gdrive/My Drive/darknet/yolov3.cfg\" \"/content/gdrive/My Drive/darknet/weights/yolov_last.weights\" -dont_show"
      ],
      "execution_count": null,
      "outputs": []
    },
    {
      "cell_type": "markdown",
      "source": [
        "## SOLUÇÃO DE PROBLEMAS"
      ],
      "metadata": {
        "id": "tWp5yIfkpPTE"
      }
    },
    {
      "cell_type": "markdown",
      "metadata": {
        "id": "G3C8fIrVKR4T"
      },
      "source": [
        "\n",
        "Os principais problemas que você pode enfrentar se o seu modelo apresentar um erro são:\n",
        "\n",
        "* Imagens ou arquivos não encontrados. Verifique a imagem da **folha de dicas do Yolov3** acima e verifique se está tudo ok.\n",
        "* Se você configurou incorretamente seus **filtros** e **classes** no **yolov3.cfg**, consulte a **folha de dicas do Yolov3** acima.\n",
        "* Você pode enfrentar alguns erros de falta de memória ou de biblioteca, principalmente devido à falta de alguns pré-requisitos. Nesse caso, verifique as versões das bibliotecas atuais instaladas na sua VM Colab. Você pode encontrar mais informações nos primeiros passos deste caderno.\n",
        "* Os parâmetros **Lote** e **subdivisões** no seu **yolov3.cfg** também podem afetar a alocação de memória. Consulte o repositório original [Aqui]() para mais detalhes.\n",
        "\n"
      ]
    },
    {
      "cell_type": "markdown",
      "source": [
        "### ATUALIZAÇÃO DA SOLUÇÃO DE PROBLEMAS"
      ],
      "metadata": {
        "id": "ohzm_mbrpTnu"
      }
    },
    {
      "cell_type": "markdown",
      "source": [
        "\n",
        "Tenha cuidado ao preparar seus arquivos no Windows. Se você usar **CRLF** em seus arquivos em vez de **LF**, poderá ter problemas para abrir os arquivos corretamente. - Obrigado a [Satya Shetty](https://twitter.com/satyashetty) por compartilhar esse problema!"
      ],
      "metadata": {
        "id": "Nx27609XpSXm"
      }
    },
    {
      "cell_type": "markdown",
      "source": [
        "## Sobre mim"
      ],
      "metadata": {
        "id": "7QlGlGZ7pabE"
      }
    },
    {
      "cell_type": "markdown",
      "source": [
        "\n",
        "\n",
        "Você pode encontrar a postagem original com mais explicações sobre este notebook em [Como treinar YOLOv3 usando o framework Darknet e otimizar os tempos de carregamento da VM] (link da postagem)\n",
        "\n",
        "Sou David Ibañez, de Barcelona. Sinta-se à vontade para entrar em contato!\n",
        "\n",
        "* Você pode visitar meu blog em [Dev-ibanyez.info](http://blog.ibanyex.info)\n",
        "* Você pode entrar em contato comigo no [Twitter](https://twitter.com/dav_ibanez)\n",
        "* Você pode entrar em contato ou contribuir para este notebook no [Github](https://github.com/kriyeng/yolo-on-colab-notebook/)\n",
        "* Você pode comentar na postagem [dev.to sobre este notebook] (PENDENTE)\n",
        "\n",
        "Obrigado por ler este notebook! :clap: :clap: :clap:"
      ],
      "metadata": {
        "id": "Ehyni9SypZdt"
      }
    },
    {
      "cell_type": "markdown",
      "source": [
        "## FONTES"
      ],
      "metadata": {
        "id": "8vMgSRy6pcsU"
      }
    },
    {
      "cell_type": "markdown",
      "source": [
        "#### Outras fontes"
      ],
      "metadata": {
        "id": "b3M8tft9peGs"
      }
    },
    {
      "cell_type": "markdown",
      "metadata": {
        "id": "46LRTt-5Pr52"
      },
      "source": [
        "\n",
        "\n",
        "\n",
        "\n",
        "\n",
        "* Site original do YOLO [Página de Joseph Redmon](https://pjreddie.com/darknet/yolo/)\n",
        "* Repositório darknet de AlexeyAB [github](https://github.com/AlexeyAB/darknet/)\n",
        "* O [caderno](https://github.com/ivangrov/YOLOv3-GoogleColab/blob/master/YOLOv3_GoogleColab.ipynb) de Ivan Goncharov me inspirou a experimentar o Google Colab e acabei criando este caderno."
      ]
    }
  ]
}