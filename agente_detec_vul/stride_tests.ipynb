{
 "cells": [
  {
   "cell_type": "markdown",
   "id": "4c14e901",
   "metadata": {},
   "source": [
    "# STRIDE Analyzer — Notebook de Testes\n",
    "\n",
    "Este notebook contém testes práticos para validar a API `POST /analyze` do projeto **STRIDE Analyzer**.\n",
    "\n",
    "Instruções rápidas:\n",
    "1. Preencha as variáveis de ambiente e déploy o serviço (veja README).\n",
    "2. Atualize `API_URL` com o endpoint local ou remoto.\n",
    "3. Substitua `diagram.png` por imagens de arquitetura para teste.\n",
    "\n",
    "O notebook inclui: checks básicos, exemplos de prompt, validação de JSON de saída e testes com múltiplas imagens.\n"
   ]
  },
  {
   "cell_type": "code",
   "execution_count": null,
   "id": "07c1926e",
   "metadata": {},
   "outputs": [],
   "source": [
    "import requests\n",
    "import json\n",
    "from pathlib import Path\n",
    "\n",
    "# Ajuste este valor para o endpoint onde sua API está rodando\n",
    "API_URL = 'http://localhost:8080/analyze'\n",
    "\n",
    "print('API_URL =', API_URL)\n"
   ]
  },
  {
   "cell_type": "code",
   "execution_count": null,
   "id": "9a8dd0ce",
   "metadata": {},
   "outputs": [],
   "source": [
    "def call_analyze(image_path: str, api_url: str = API_URL):\n",
    "    \"\"\"Faz POST multipart para /analyze e retorna JSON ou raise.\"\"\"\n",
    "    p = Path(image_path)\n",
    "    if not p.exists():\n",
    "        raise FileNotFoundError(f'Arquivo não encontrado: {image_path}')\n",
    "    with open(p, 'rb') as f:\n",
    "        files = {'file': (p.name, f, 'image/png')}\n",
    "        resp = requests.post(api_url, files=files, timeout=60)\n",
    "    resp.raise_for_status()\n",
    "    return resp.json()\n",
    "\n",
    "# Exemplo de chamada (descomente e altere o caminho da imagem)\n",
    "# res = call_analyze('diagram.png')\n",
    "# print(json.dumps(res, indent=2, ensure_ascii=False))\n"
   ]
  },
  {
   "cell_type": "markdown",
   "id": "4900d322",
   "metadata": {},
   "source": [
    "## Exemplo de prompt (para validação offline)\n",
    "\n",
    "Copie este prompt no seu ambiente de testes do Azure OpenAI para verificar o comportamento de geração antes de enviar imagens ao serviço:\n"
   ]
  },
  {
   "cell_type": "code",
   "execution_count": null,
   "id": "cda91981",
   "metadata": {},
   "outputs": [],
   "source": [
    "PROMPT_EXAMPLE = '''\n",
    "You are a security analyst.\n",
    "Input fields:\n",
    "CAPTION: Simple web application with LB, API Gateway, Auth Service, Database.\n",
    "OCR_TEXT: API Gateway\n",
    "Auth Service\n",
    "Database\n",
    "Load Balancer\n",
    "DETECTED_OBJECTS: load balancer, server, database\n",
    "Task: Produce a STRIDE analysis per component. Output strictly valid JSON with 'components' array where each component has: name, evidence, stride (Spoofing, Tampering, Repudiation, InfoDisclosure, DoS, Elevation), recommendations (list).\n",
    "Rules: - Keep recommendations concise (3-6 words each). - Use evidence from caption/OCR/objects.\n",
    "'''\n",
    "\n",
    "print(PROMPT_EXAMPLE)\n"
   ]
  },
  {
   "cell_type": "code",
   "execution_count": null,
   "id": "ffebac12",
   "metadata": {},
   "outputs": [],
   "source": [
    "def validate_stride_structure(obj: dict):\n",
    "    assert isinstance(obj, dict), 'Resposta não é JSON-obj'\n",
    "    comps = obj.get('components')\n",
    "    assert isinstance(comps, list), 'Campo components ausente ou não é lista'\n",
    "    required_stride = ['Spoofing','Tampering','Repudiation','InfoDisclosure','DoS','Elevation']\n",
    "    for c in comps:\n",
    "        assert 'name' in c, 'component sem name'\n",
    "        assert 'evidence' in c, 'component sem evidence'\n",
    "        s = c.get('stride')\n",
    "        assert isinstance(s, dict), 'stride não é dict'\n",
    "        for k in required_stride:\n",
    "            assert k in s, f'stride faltando {k}'\n",
    "    return True\n",
    "\n",
    "# Exemplo de uso (substitua por saída real)\n",
    "# example = call_analyze('diagram.png')['stride_analysis']\n",
    "# validate_stride_structure(example)\n",
    "# print('Validação OK')\n"
   ]
  },
  {
   "cell_type": "markdown",
   "id": "4cd53a75",
   "metadata": {},
   "source": [
    "## Testes em lote\n",
    "\n",
    "Coloque imagens de diagrama em um diretório `tests_images/` e execute a célula abaixo para enviar todas as imagens ao endpoint e salvar respostas em `./test_outputs/`.\n"
   ]
  },
  {
   "cell_type": "code",
   "execution_count": null,
   "id": "04059fae",
   "metadata": {},
   "outputs": [],
   "source": [
    "from pathlib import Path\n",
    "\n",
    "INPUT_DIR = Path('tests_images')\n",
    "OUTPUT_DIR = Path('test_outputs')\n",
    "OUTPUT_DIR.mkdir(exist_ok=True)\n",
    "\n",
    "images = sorted([p for p in INPUT_DIR.iterdir() if p.suffix.lower() in ['.png', '.jpg', '.jpeg']])\n",
    "print('Encontradas', len(images), 'imagens em', INPUT_DIR)\n",
    "\n",
    "for img in images:\n",
    "    try:\n",
    "        print('Enviando', img)\n",
    "        res = call_analyze(str(img))\n",
    "        out_file = OUTPUT_DIR / (img.stem + '.json')\n",
    "        out_file.write_text(json.dumps(res, ensure_ascii=False, indent=2))\n",
    "        print('Resposta salva em', out_file)\n",
    "    except Exception as e:\n",
    "        print('Erro para', img, ':', e)\n"
   ]
  }
 ],
 "metadata": {},
 "nbformat": 4,
 "nbformat_minor": 5
}
